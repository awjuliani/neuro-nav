{
 "cells": [
  {
   "cell_type": "markdown",
   "metadata": {},
   "source": [
    "## Pessimism Experiments"
   ]
  },
  {
   "cell_type": "code",
   "execution_count": null,
   "metadata": {},
   "outputs": [],
   "source": [
    "# Uncomment below lines and run this cell to install neuronav and requirements for colab.\n",
    "\n",
    "#!git clone https://github.com/awjuliani/neuro-nav\n",
    "#!pip install ./neuro-nav[experiments_remote]"
   ]
  },
  {
   "cell_type": "code",
   "execution_count": null,
   "metadata": {},
   "outputs": [],
   "source": [
    "from neuronav.envs.grid_env import GridEnv, GridSize, GridObsType, OrientationType\n",
    "from neuronav.envs.graph_env import GraphEnv\n",
    "from neuronav.agents.td_agents import TDSR, TDQ\n",
    "from neuronav.agents.pessimistic_agents import PessimisticTDQ, PessimisticMBV\n",
    "from neuronav.envs.grid_topographies import GridTopography\n",
    "from neuronav.envs.graph_structures import GraphStructure\n",
    "from neuronav.utils import run_episode\n",
    "import matplotlib.pyplot as plt\n",
    "import numpy as np"
   ]
  },
  {
   "cell_type": "code",
   "execution_count": null,
   "metadata": {},
   "outputs": [],
   "source": [
    "reward_map = {(1, 5): 1.0, (5, 5): -1.0, (5, 4): -1.0, (5, 6): -1.0}\n",
    "start_pos = (9, 5)\n",
    "\n",
    "env = GridEnv(grid_size=GridSize.small)\n",
    "obs = env.reset(reward_locs=reward_map, agent_pos=start_pos)\n",
    "env.render()"
   ]
  },
  {
   "cell_type": "code",
   "execution_count": null,
   "metadata": {},
   "outputs": [],
   "source": [
    "num_episodes = 200\n",
    "num_steps = 50\n",
    "w_value = 0.75\n",
    "\n",
    "agent = PessimisticMBV(\n",
    "    env.state_size,\n",
    "    env.action_space.n,\n",
    "    lr=5e-2,\n",
    "    poltype=\"egreedy\",\n",
    "    epsilon=0.25,\n",
    "    gamma=0.95,\n",
    "    w_value=w_value,\n",
    ")\n",
    "\n",
    "total_steps = []\n",
    "tot_returns = []\n",
    "for i in range(num_episodes):\n",
    "    agent, steps, tot_return = run_episode(\n",
    "        env, agent, max_steps=num_steps, reward_locs=reward_map, start_pos=start_pos\n",
    "    )\n",
    "    total_steps.append(steps)\n",
    "    tot_returns.append(tot_return)\n",
    "\n",
    "tot_returns = np.array(tot_returns).reshape(-1, 20).mean(-1)\n",
    "total_steps = np.array(total_steps).reshape(-1, 20).mean(-1)\n",
    "plt.plot(tot_returns)\n",
    "plt.xlabel(\"Episodes\")\n",
    "plt.ylabel(\"Return\")\n",
    "plt.show()\n",
    "plt.plot(total_steps)\n",
    "plt.xlabel(\"Episodes\")\n",
    "plt.ylabel(\"Timesteps\")\n",
    "plt.show()"
   ]
  },
  {
   "cell_type": "code",
   "execution_count": null,
   "metadata": {},
   "outputs": [],
   "source": [
    "V = agent.Q.mean(0)\n",
    "print(V.min(), V.max())\n",
    "plt.imshow(V.reshape(env.grid_size, env.grid_size), cmap=\"RdBu\", vmin=-1.0, vmax=1.0)\n",
    "plt.colorbar()"
   ]
  },
  {
   "cell_type": "code",
   "execution_count": null,
   "metadata": {},
   "outputs": [],
   "source": []
  }
 ],
 "metadata": {
  "kernelspec": {
   "display_name": "Python 3.9.12 ('base')",
   "language": "python",
   "name": "python3"
  },
  "language_info": {
   "codemirror_mode": {
    "name": "ipython",
    "version": 3
   },
   "file_extension": ".py",
   "mimetype": "text/x-python",
   "name": "python",
   "nbconvert_exporter": "python",
   "pygments_lexer": "ipython3",
   "version": "3.9.12"
  },
  "orig_nbformat": 4,
  "vscode": {
   "interpreter": {
    "hash": "d4416b23800dac0499c77199e6a61cce292c2d7a147d61370d8d704e5424b5c2"
   }
  }
 },
 "nbformat": 4,
 "nbformat_minor": 2
}
