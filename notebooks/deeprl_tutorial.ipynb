{
 "cells": [
  {
   "cell_type": "code",
   "execution_count": 1,
   "metadata": {},
   "outputs": [],
   "source": [
    "from neuronav.deep_agents.ppo.agent import PPOAgent\n",
    "from neuronav.deep_agents.sac.agent import SACAgent\n",
    "from neuronav.envs.grid_env import GridEnv, GridObservation, GridSize, GridTemplate\n",
    "import torch\n",
    "import matplotlib.pyplot as plt\n",
    "from neuronav.utils import run_episode\n",
    "import math\n",
    "import numpy as np"
   ]
  },
  {
   "cell_type": "code",
   "execution_count": 2,
   "metadata": {},
   "outputs": [
    {
     "data": {
      "image/png": "[encoded data removed]",
      "text/plain": [
       "<Figure size 432x288 with 1 Axes>"
      ]
     },
     "metadata": {
      "needs_background": "light"
     },
     "output_type": "display_data"
    }
   ],
   "source": [
    "env = GridEnv(obs_type=GridObservation.symbolic, template=GridTemplate.outer_ring)\n",
    "obs = env.reset()\n",
    "env.render()"
   ]
  },
  {
   "cell_type": "code",
   "execution_count": 3,
   "metadata": {},
   "outputs": [],
   "source": [
    "model_params = {\n",
    "    \"enc_type\": \"linear\",\n",
    "    \"h_size\": 128,\n",
    "    \"lr\": 3e-4,\n",
    "    \"obs_size\": math.prod(env.obs_space.shape),\n",
    "    \"act_size\": env.action_space.n,\n",
    "    \"depth\": 0,\n",
    "}\n",
    "\n",
    "agent_params_sac = {\n",
    "    \"batch_size\": 32,\n",
    "    \"gamma\": 0.99,\n",
    "    \"tau\": 0.005,\n",
    "    \"target_update_interval\": 2,\n",
    "    \"replay_buffer_size\": 100000,\n",
    "    \"update_interval\": 4,\n",
    "    \"warmup_steps\": 1000,\n",
    "    \"alpha\": 0.01,\n",
    "}\n",
    "\n",
    "agent_params_ppo = {\n",
    "    \"gamma\": 0.99,\n",
    "    \"lambda\": 0.95,\n",
    "    \"buffer_size\": 256,\n",
    "    \"ent_coef\": 0.05,\n",
    "    \"num_passes\": 2,\n",
    "    \"clip_param\": 0.2,\n",
    "    \"batch_size\": 32,\n",
    "}"
   ]
  },
  {
   "cell_type": "code",
   "execution_count": 4,
   "metadata": {},
   "outputs": [],
   "source": [
    "repeats = 5\n",
    "episodes = 200\n",
    "max_steps = 100\n",
    "\n",
    "all_returns = []\n",
    "for i in range(repeats):\n",
    "    ep_returns = []\n",
    "    agent = PPOAgent(model_params, agent_params_ppo)\n",
    "    # agent = SACAgent(model_params, agent_params_sac)\n",
    "    for j in range(episodes):\n",
    "        agent, ep_steps, ep_return = run_episode(env, agent, max_steps)\n",
    "        ep_returns.append(ep_return)\n",
    "    all_returns.append(ep_returns)"
   ]
  },
  {
   "cell_type": "code",
   "execution_count": 5,
   "metadata": {},
   "outputs": [
    {
     "data": {
      "text/plain": [
       "[<matplotlib.lines.Line2D at 0x175152070>]"
      ]
     },
     "execution_count": 5,
     "metadata": {},
     "output_type": "execute_result"
    },
    {
     "data": {
      "image/png": "[encoded data removed]",
      "text/plain": [
       "<Figure size 432x288 with 1 Axes>"
      ]
     },
     "metadata": {
      "needs_background": "light"
     },
     "output_type": "display_data"
    }
   ],
   "source": [
    "all_returns = np.stack(all_returns)\n",
    "mean_returns = np.mean(all_returns, axis=0)\n",
    "\n",
    "plt.plot(mean_returns)"
   ]
  }
 ],
 "metadata": {
  "kernelspec": {
   "display_name": "py38_default",
   "language": "python",
   "name": "python3"
  },
  "language_info": {
   "codemirror_mode": {
    "name": "ipython",
    "version": 3
   },
   "file_extension": ".py",
   "mimetype": "text/x-python",
   "name": "python",
   "nbconvert_exporter": "python",
   "pygments_lexer": "ipython3",
   "version": "3.9.12"
  },
  "orig_nbformat": 4,
  "vscode": {
   "interpreter": {
    "hash": "1c975a20906e8142c699e3b310c99f06555776b58f1706bf1df8dfa61229c3f5"
   }
  }
 },
 "nbformat": 4,
 "nbformat_minor": 2
}
