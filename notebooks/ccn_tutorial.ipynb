{
 "cells": [
  {
   "cell_type": "markdown",
   "metadata": {},
   "source": [
    "# CCN 2022 Tutorial\n",
    "This notebook was designed to accompany the [Varieties of human-like AI tutorial](https://2022.ccneuro.org/view_event.php?mid=18) which took place during CCN 2022. \n",
    "\n",
    "It also serves as an interactive introduction to various topics in reinforcement learning, and may be of general interest."
   ]
  },
  {
   "cell_type": "code",
   "execution_count": null,
   "metadata": {},
   "outputs": [],
   "source": [
    "# Uncomment below lines and run this cell to install neuronav and requirements for colab.\n",
    "\n",
    "#!git clone https://github.com/awjuliani/neuro-nav\n",
    "#!pip install ./neuro-nav[experiments_remote]"
   ]
  },
  {
   "cell_type": "code",
   "execution_count": null,
   "metadata": {},
   "outputs": [],
   "source": [
    "from neuronav.envs.grid_env import GridEnv, GridSize, GridObsType, OrientationType\n",
    "from neuronav.envs.graph_env import GraphEnv\n",
    "from neuronav.agents.td_agents import TDSR, TDQ\n",
    "from neuronav.agents.mb_agents import MBV\n",
    "from neuronav.envs.grid_topographies import GridTopography\n",
    "from neuronav.envs.graph_structures import GraphStructure\n",
    "from neuronav.utils import run_episode\n",
    "from neuronav.notebook_helpers import plot_values_and_policy\n",
    "import matplotlib.pyplot as plt\n",
    "import numpy as np"
   ]
  },
  {
   "cell_type": "markdown",
   "metadata": {},
   "source": [
    "## The reinforcement learning loop"
   ]
  },
  {
   "cell_type": "code",
   "execution_count": null,
   "metadata": {},
   "outputs": [],
   "source": [
    "env = GraphEnv(graph_structure=GraphStructure.two_step)\n",
    "reward_locs = {3: 0.5, 4: -0.5, 5: 1.0, 6: -1.0}\n",
    "obs = env.reset(reward_locs=reward_locs)\n",
    "env.render()"
   ]
  },
  {
   "cell_type": "markdown",
   "metadata": {},
   "source": [
    "## Q-Learning in bandit tasks"
   ]
  },
  {
   "cell_type": "markdown",
   "metadata": {},
   "source": [
    "## Q-learning in multi-step tasks"
   ]
  },
  {
   "cell_type": "markdown",
   "metadata": {},
   "source": [
    "## The successor representation"
   ]
  },
  {
   "cell_type": "markdown",
   "metadata": {},
   "source": [
    "## Experience replay with Dyna"
   ]
  },
  {
   "cell_type": "markdown",
   "metadata": {},
   "source": [
    "## Model-based algorithms"
   ]
  },
  {
   "cell_type": "markdown",
   "metadata": {},
   "source": [
    "## Next steps"
   ]
  },
  {
   "cell_type": "markdown",
   "metadata": {},
   "source": []
  }
 ],
 "metadata": {
  "kernelspec": {
   "display_name": "Python 3.9.12 ('base')",
   "language": "python",
   "name": "python3"
  },
  "language_info": {
   "codemirror_mode": {
    "name": "ipython",
    "version": 3
   },
   "file_extension": ".py",
   "mimetype": "text/x-python",
   "name": "python",
   "nbconvert_exporter": "python",
   "pygments_lexer": "ipython3",
   "version": "3.9.12"
  },
  "orig_nbformat": 4,
  "vscode": {
   "interpreter": {
    "hash": "d4416b23800dac0499c77199e6a61cce292c2d7a147d61370d8d704e5424b5c2"
   }
  }
 },
 "nbformat": 4,
 "nbformat_minor": 2
}
