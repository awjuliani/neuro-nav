{
 "cells": [
  {
   "cell_type": "markdown",
   "metadata": {},
   "source": [
    "# Successor Representation Learning Experiments"
   ]
  },
  {
   "cell_type": "code",
   "execution_count": null,
   "metadata": {},
   "outputs": [],
   "source": [
    "from neuronav.envs.grid_env import GridEnv, GridSize\n",
    "from neuronav.agents.td_agents import TDSR\n",
    "from neuronav.envs.grid_topographies import GridTopography\n",
    "from neuronav.utils import run_episode\n",
    "import matplotlib.pyplot as plt\n",
    "from sklearn.decomposition import PCA\n",
    "import numpy as np"
   ]
  },
  {
   "cell_type": "markdown",
   "metadata": {},
   "source": [
    "### Loading the environment"
   ]
  },
  {
   "cell_type": "code",
   "execution_count": null,
   "metadata": {},
   "outputs": [],
   "source": [
    "env = GridEnv(topography=GridTopography.empty, grid_size=GridSize.large)\n",
    "obs = env.reset()\n",
    "env.render()"
   ]
  },
  {
   "cell_type": "markdown",
   "metadata": {},
   "source": [
    "### Visualizing the agent's value function"
   ]
  },
  {
   "cell_type": "code",
   "execution_count": null,
   "metadata": {},
   "outputs": [],
   "source": [
    "num_episodes = 1000\n",
    "num_steps = 100\n",
    "\n",
    "agent = TDSR(env.state_size, env.action_space.n, lr=1e-1, poltype=\"egreedy\", epsilon=0.2)\n",
    "\n",
    "for _ in range(num_episodes):\n",
    "    agent, _ = run_episode(env, agent, num_steps, random_start=True)"
   ]
  },
  {
   "cell_type": "code",
   "execution_count": null,
   "metadata": {},
   "outputs": [],
   "source": [
    "y = 5\n",
    "\n",
    "fig, axs = plt.subplots(1, y, figsize=(y*3, 3))\n",
    "\n",
    "for j in range(y):\n",
    "    axs[j].axis(\"off\")\n",
    "    b = env.grid(render_objects=False)\n",
    "    if j < y - 1:\n",
    "        a = agent.Q[j].reshape(env.grid_size, env.grid_size)\n",
    "        b[:,:,2] += np.clip(np.sqrt(a), 0, 1)\n",
    "    else:\n",
    "        a = np.mean(agent.Q, axis=0).reshape(env.grid_size, env.grid_size)\n",
    "        b[:,:,1] += np.clip(np.sqrt(a), 0, 1)\n",
    "    axs[j].imshow(b)"
   ]
  },
  {
   "cell_type": "markdown",
   "metadata": {},
   "source": [
    "### Analyzing the successor representation"
   ]
  },
  {
   "cell_type": "code",
   "execution_count": null,
   "metadata": {},
   "outputs": [],
   "source": [
    "agent = TDSR(env.state_size, env.action_space.n, lr=1e-1, poltype=\"egreedy\", epsilon=1.0, goal_biased_sr=False)\n",
    "num_episodes = 1000\n",
    "num_steps = 100\n",
    "\n",
    "for i in range(num_episodes):\n",
    "    agent, _ = run_episode(env, agent, num_steps, random_start=True, goal_pos=[0,0])\n",
    "\n",
    "m_map = {}\n",
    "for state in range(env.state_size):\n",
    "    if agent.M[:,state].mean(0).sum() != 1:\n",
    "        m_map[state] = agent.M.mean(0)[state]\n",
    "m_map = np.stack(list(m_map.values()))"
   ]
  },
  {
   "cell_type": "markdown",
   "metadata": {},
   "source": [
    "#### Visualizing the agent's successor \"place cells\""
   ]
  },
  {
   "cell_type": "code",
   "execution_count": null,
   "metadata": {},
   "outputs": [],
   "source": [
    "x, y= 8, 5\n",
    "\n",
    "fig, axs = plt.subplots(y, x, figsize=(x*3, y*3))\n",
    "\n",
    "np.random.shuffle(m_map)\n",
    "\n",
    "for i in range(x):\n",
    "    for j in range(y):\n",
    "        axs[j,i].axis(\"off\")\n",
    "        a = m_map[i * y + j].reshape(env.grid_size, env.grid_size)\n",
    "        b = env.grid(render_objects=False)\n",
    "        b[:,:,1] += np.clip(np.power(a,.5), 0, 1)\n",
    "        axs[j,i].imshow(b)"
   ]
  },
  {
   "cell_type": "markdown",
   "metadata": {},
   "source": [
    "#### Visualizing the agent's successor \"grid cells\""
   ]
  },
  {
   "cell_type": "code",
   "execution_count": null,
   "metadata": {},
   "outputs": [],
   "source": [
    "y = 8\n",
    "x = 5\n",
    "\n",
    "mean_m = np.mean(agent.M, axis=0)\n",
    "pca = PCA(n_components=y*x, svd_solver='full')\n",
    "result = pca.fit_transform(mean_m.T)\n",
    "result = np.clip(result, 0, 1)\n",
    "\n",
    "fig, axs = plt.subplots(x, y, figsize=(y*3, x*3))\n",
    "\n",
    "for j in range(x):\n",
    "    for i in range(y):\n",
    "        axs[j,i].axis(\"off\")\n",
    "        axs[j,i].imshow(result[:,(i+(j*y))].reshape(env.grid_size, env.grid_size), cmap='jet')"
   ]
  }
 ],
 "metadata": {
  "interpreter": {
   "hash": "64d9a4da82fbf796ea5d90f7f959263c48e96d5615cf27cdc0451e626cd55151"
  },
  "kernelspec": {
   "display_name": "Python 3.8.11 ('base')",
   "language": "python",
   "name": "python3"
  },
  "language_info": {
   "codemirror_mode": {
    "name": "ipython",
    "version": 3
   },
   "file_extension": ".py",
   "mimetype": "text/x-python",
   "name": "python",
   "nbconvert_exporter": "python",
   "pygments_lexer": "ipython3",
   "version": "3.8.11"
  },
  "orig_nbformat": 4
 },
 "nbformat": 4,
 "nbformat_minor": 2
}
